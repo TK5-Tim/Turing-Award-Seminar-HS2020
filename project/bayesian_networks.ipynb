{
 "metadata": {
  "language_info": {
   "codemirror_mode": {
    "name": "ipython",
    "version": 3
   },
   "file_extension": ".py",
   "mimetype": "text/x-python",
   "name": "python",
   "nbconvert_exporter": "python",
   "pygments_lexer": "ipython3",
   "version": "3.8.2-final"
  },
  "orig_nbformat": 2,
  "kernelspec": {
   "name": "python3",
   "display_name": "Python 3.8.2 64-bit",
   "metadata": {
    "interpreter": {
     "hash": "31f2aee4e71d21fbe5cf8b01ff0e069b9275f58929596ceb00d14d90e3e16cd6"
    }
   }
  }
 },
 "nbformat": 4,
 "nbformat_minor": 2,
 "cells": [
  {
   "source": [
    " # Pearl's favourite Example of a Bayesian network\n",
    " In my presentation I talked about a specific example of a Bayesian network that Judea Pearl likes to use in presentation. In my programming project I took said network and implemented it:"
   ],
   "cell_type": "markdown",
   "metadata": {}
  },
  {
   "source": [
    "![Example Bayesian network Judea Pearl](bsp_bayesnetz_pearl.png)"
   ],
   "cell_type": "markdown",
   "metadata": {}
  },
  {
   "source": [
    "I defined a class for every node in the network to store their parents and conditional probabilities:"
   ],
   "cell_type": "markdown",
   "metadata": {}
  },
  {
   "cell_type": "code",
   "execution_count": 19,
   "metadata": {},
   "outputs": [],
   "source": [
    "class node():\n",
    "  parents = list()\n",
    "  cond_prob = dict\n",
    "\n",
    "  def add_parent(self, a):\n",
    "    self.parents.append(a)\n",
    "  def add_cond_prob(self, b):\n",
    "    self.cond_prob = b"
   ]
  },
  {
   "source": [
    "The first node X1 in the network is the season. \n",
    "The possibilities for that node are: winter, spring, summer and fall. \n",
    "Conditional probabilities were assigned by me as follows: \n",
    "\n",
    "|  winter | spring  | summer | fall  |\n",
    "|---|---|---|---|\n",
    "| 0.25  | 0.25  | 0.25  | 0.25  |"
   ],
   "cell_type": "markdown",
   "metadata": {}
  },
  {
   "cell_type": "code",
   "execution_count": 20,
   "metadata": {},
   "outputs": [
    {
     "output_type": "execute_result",
     "data": {
      "text/plain": [
       "{'winter': 0.25, 'spring': 0.25, 'summer': 0.25, 'fall': 0.25}"
      ]
     },
     "metadata": {},
     "execution_count": 20
    }
   ],
   "source": [
    "x1 = node()\n",
    "x1.add_cond_prob({'winter':0.25,'spring':0.25,'summer':0.25,'fall':0.25})\n",
    "x1.cond_prob"
   ]
  },
  {
   "source": [
    "The second node X2 in the network is the rain. \n",
    "The possibilities for that node are: rain (yes), no rain (no). Parent of the node is the node X1 season. Therefore probabilities are dependent of X1. \n",
    "Conditional probabilities were assigned by me as follows:\n",
    "\n",
    "|   | yes| no  |\n",
    "|---|---|---|\n",
    "|**winter** | 0.5 | 0.5  |\n",
    "| **spring**  | 0.25   | 0.75  |\n",
    "| **summer**  | 0.1  | 0.9  |\n",
    "| **fall**  | 0.6  | 0.4  | "
   ],
   "cell_type": "markdown",
   "metadata": {}
  },
  {
   "cell_type": "code",
   "execution_count": 21,
   "metadata": {},
   "outputs": [
    {
     "output_type": "execute_result",
     "data": {
      "text/plain": [
       "{'yes': {'winter': 0.5, 'spring': 0.25, 'summer': 0.1, 'fall': 0.6},\n",
       " 'no': {'winter': 0.5, 'spring': 0.75, 'summer': 0.9, 'fall': 0.4}}"
      ]
     },
     "metadata": {},
     "execution_count": 21
    }
   ],
   "source": [
    "x2 = node()\n",
    "x2.add_cond_prob({'yes':{'winter':0.5,\n",
    "                         'spring':0.25,\n",
    "                         'summer':0.1,\n",
    "                         'fall':0.6},\n",
    "                  'no':{'winter':0.5,\n",
    "                        'spring':0.75,\n",
    "                        'summer':0.9,\n",
    "                        'fall':0.4}\n",
    "})\n",
    "x2.add_parent(x1)\n",
    "x2.cond_prob"
   ]
  },
  {
   "source": [
    "The second node X3 in the network is the sprinkler\n",
    "The possibilities for that node are: sprinkler on, sprinkler off. Parent of the node is the node X1 season. Therefore probabilities are dependent of X1. Conditional probabilities were assigned by me as follows:\n",
    "\n",
    "|   | on| off |\n",
    "|---|---|---|\n",
    "|**winter** | 0.0 | 1.0  |\n",
    "| **spring**  | 0.4   | 0.6  |\n",
    "| **summer**  | 0.75  | 0.25 |\n",
    "| **fall**  | 0.25  | 0.75  | "
   ],
   "cell_type": "markdown",
   "metadata": {}
  },
  {
   "cell_type": "code",
   "execution_count": 22,
   "metadata": {},
   "outputs": [
    {
     "output_type": "execute_result",
     "data": {
      "text/plain": [
       "{'on': {'winter': 0.0, 'spring': 0.4, 'summer': 0.75, 'fall': 0.25},\n",
       " 'off': {'winter': 1.0, 'spring': 0.6, 'summer': 0.25, 'fall': 0.75}}"
      ]
     },
     "metadata": {},
     "execution_count": 22
    }
   ],
   "source": [
    "x3 = node()\n",
    "x3.add_cond_prob({'on':{'winter':0.0,\n",
    "                         'spring':0.4,\n",
    "                         'summer':0.75,\n",
    "                         'fall':0.25},\n",
    "                  'off':{'winter':1.0,\n",
    "                        'spring':0.6,\n",
    "                        'summer':0.25,\n",
    "                        'fall':0.75}\n",
    "})\n",
    "x3.add_parent(x1)\n",
    "x3.cond_prob"
   ]
  },
  {
   "source": [
    "The next node X4 in the network is the sprinkler The possibilities for that node are: sprinkler on, sprinkler off. Parent of the node is the node X1 season. Therefore probabilities are dependent of X1. Conditional probabilities were assigned by me as follows:\n",
    "\n",
    "| rain  | sprinkler | yes  | no |\n",
    "|---|---|---| --- |\n",
    "|  yes | on  | 0.9  | 0.1\n",
    "| yes  | off  | 0.5  | 0.5\n",
    "| no  | on  | 0.5  | 0.5\n",
    "| no  | off  | 0.1  | 0.9"
   ],
   "cell_type": "markdown",
   "metadata": {}
  },
  {
   "cell_type": "code",
   "execution_count": 23,
   "metadata": {},
   "outputs": [
    {
     "output_type": "execute_result",
     "data": {
      "text/plain": [
       "{'yes': {'yes': {'on': 0.9, 'off': 0.6}, 'no': {'on': 0.6, 'off': 0.1}},\n",
       " 'no': {'yes': {'on': 0.1, 'off': 0.4}, 'no': {'on': 0.4, 'off': 0.9}}}"
      ]
     },
     "metadata": {},
     "execution_count": 23
    }
   ],
   "source": [
    "x4 = node()\n",
    "x4.add_cond_prob({\n",
    "    'yes':{\n",
    "        'yes': {\n",
    "            'on': 0.9,\n",
    "            'off': 0.6\n",
    "        },\n",
    "        'no':{\n",
    "            'on': 0.6,\n",
    "            'off': 0.1\n",
    "        }},\n",
    "    'no':{\n",
    "        'yes': {\n",
    "            'on': 0.1,\n",
    "            'off': 0.4\n",
    "        },\n",
    "        'no': {\n",
    "            'on': 0.4,\n",
    "            'off': 0.9\n",
    "        }}\n",
    "})\n",
    "x4.add_parent(x2)\n",
    "x4.add_parent(x3)\n",
    "x4.cond_prob"
   ]
  },
  {
   "cell_type": "code",
   "execution_count": 24,
   "metadata": {},
   "outputs": [
    {
     "output_type": "execute_result",
     "data": {
      "text/plain": [
       "{'yes': {'yes': 0.9, 'no': 0.1}, 'no': {'yes': 0.1, 'no': 0.9}}"
      ]
     },
     "metadata": {},
     "execution_count": 24
    }
   ],
   "source": [
    "x5 = node()\n",
    "x5.add_cond_prob({'yes':{'yes':0.9,\n",
    "                         'no':0.1},\n",
    "                  'no':{'yes':0.1,\n",
    "                        'no':0.9}\n",
    "})\n",
    "x5.add_parent(x4)\n",
    "x5.cond_prob"
   ]
  },
  {
   "source": [
    "We are constructing the probabilities of this Bayesian Network after this formula: \n",
    "\\\\[ P(x_1,x_2,x_3,x_4,x_5) = P(x_1)P(x_2|x_1)P(x_3|x_1)P(x_4|x_2,x_3)P(x_5|x_4) \\\\]"
   ],
   "cell_type": "markdown",
   "metadata": {}
  },
  {
   "cell_type": "code",
   "execution_count": 25,
   "metadata": {},
   "outputs": [],
   "source": [
    "def P(a1,a2,a3,a4,a5):\n",
    "  return x1.cond_prob[a1]*x2.cond_prob[a2][a1]*x3.cond_prob[a3][a1]*x4.cond_prob[a4][a2][a3]*x5.cond_prob[a5][a4]"
   ]
  },
  {
   "cell_type": "code",
   "execution_count": 26,
   "metadata": {},
   "outputs": [
    {
     "output_type": "execute_result",
     "data": {
      "text/plain": [
       "0.015187500000000005"
      ]
     },
     "metadata": {},
     "execution_count": 26
    }
   ],
   "source": [
    "P(\"summer\",\"yes\",\"on\",\"yes\",\"yes\")"
   ]
  }
 ]
}